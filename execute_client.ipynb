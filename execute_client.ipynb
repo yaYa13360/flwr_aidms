{
 "cells": [
  {
   "cell_type": "code",
   "execution_count": null,
   "id": "af366b21",
   "metadata": {},
   "outputs": [],
   "source": [
    "!TF_ENABLE_ONEDNN_OPTS=0 python client.py"
   ]
  },
  {
   "cell_type": "code",
   "execution_count": null,
   "id": "736a4d49",
   "metadata": {},
   "outputs": [],
   "source": [
    "!sudo nvidia-smi -i 0 -c 0"
   ]
  }
 ],
 "metadata": {
  "kernelspec": {
   "display_name": "Python 3 (ipykernel)",
   "language": "python",
   "name": "python3"
  },
  "language_info": {
   "codemirror_mode": {
    "name": "ipython",
    "version": 3
   },
   "file_extension": ".py",
   "mimetype": "text/x-python",
   "name": "python",
   "nbconvert_exporter": "python",
   "pygments_lexer": "ipython3",
   "version": "3.8.10"
  }
 },
 "nbformat": 4,
 "nbformat_minor": 5
}
